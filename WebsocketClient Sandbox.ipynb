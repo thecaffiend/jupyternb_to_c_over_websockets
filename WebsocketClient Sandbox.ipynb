{
 "cells": [
  {
   "cell_type": "code",
   "execution_count": null,
   "metadata": {
    "collapsed": false
   },
   "outputs": [],
   "source": [
    "# this is just a temp fix to get things working locally. use the server config when starting jupyter\n",
    "import sys\n",
    "sys.path.append('~/development/websocket_with_c_driver/client_side')"
   ]
  },
  {
   "cell_type": "code",
   "execution_count": null,
   "metadata": {
    "collapsed": false,
    "scrolled": true
   },
   "outputs": [],
   "source": [
    "from wsclient.client import TestWebSocketClient\n",
    "from tornado import ioloop\n",
    "\n",
    "client = TestWebSocketClient()\n",
    "client.connect('ws://127.0.0.1:8675/ws')\n",
    "\n",
    "# i guess an ioloop already exists and we don't need this? from the client_main.py file.\n",
    "#    try:\n",
    "#        ioloop.IOLoop.instance().start()\n",
    "#    except KeyboardInterrupt:\n",
    "#        client.close()\n"
   ]
  },
  {
   "cell_type": "code",
   "execution_count": null,
   "metadata": {
    "collapsed": false
   },
   "outputs": [],
   "source": [
    "d = {'does_it': 'blend'}\n",
    "client.send(d)"
   ]
  }
 ],
 "metadata": {
  "kernelspec": {
   "display_name": "Python 3",
   "language": "python",
   "name": "python3"
  },
  "language_info": {
   "codemirror_mode": {
    "name": "ipython",
    "version": 3
   },
   "file_extension": ".py",
   "mimetype": "text/x-python",
   "name": "python",
   "nbconvert_exporter": "python",
   "pygments_lexer": "ipython3",
   "version": "3.5.1"
  }
 },
 "nbformat": 4,
 "nbformat_minor": 0
}
