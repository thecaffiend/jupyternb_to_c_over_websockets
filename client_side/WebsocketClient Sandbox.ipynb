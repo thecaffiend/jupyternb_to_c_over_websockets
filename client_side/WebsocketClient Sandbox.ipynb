{
 "cells": [
  {
   "cell_type": "code",
   "execution_count": null,
   "metadata": {
    "collapsed": false
   },
   "outputs": [],
   "source": [
    "# this is just a temp fix to get things working locally. use the server config when starting jupyter\n",
    "import sys, os\n",
    "\n",
    "# NOTE: change this path if you need to for your system\n",
    "client_side_path = os.getcwd()\n",
    "print(\"client_side_path: %s\" % (client_side_path))\n",
    "sys.path.append(client_side_path)"
   ]
  },
  {
   "cell_type": "code",
   "execution_count": null,
   "metadata": {
    "collapsed": false,
    "scrolled": true
   },
   "outputs": [],
   "source": [
    "from wsclient.client import TestWebSocketClient\n",
    "from tornado import ioloop\n",
    "\n",
    "print(\"IOLoop: %s\" % (ioloop.IOLoop.current()))\n",
    "client = TestWebSocketClient()\n",
    "client.connect('ws://localhost:8675/ws')"
   ]
  },
  {
   "cell_type": "code",
   "execution_count": null,
   "metadata": {
    "collapsed": false
   },
   "outputs": [],
   "source": [
    "d = {'does_it': 'blend'}\n",
    "client.send(d)"
   ]
  },
  {
   "cell_type": "code",
   "execution_count": null,
   "metadata": {
    "collapsed": true
   },
   "outputs": [],
   "source": []
  }
 ],
 "metadata": {
  "kernelspec": {
   "display_name": "Python 3",
   "language": "python",
   "name": "python3"
  },
  "language_info": {
   "codemirror_mode": {
    "name": "ipython",
    "version": 3
   },
   "file_extension": ".py",
   "mimetype": "text/x-python",
   "name": "python",
   "nbconvert_exporter": "python",
   "pygments_lexer": "ipython3",
   "version": "3.5.1"
  }
 },
 "nbformat": 4,
 "nbformat_minor": 0
}
