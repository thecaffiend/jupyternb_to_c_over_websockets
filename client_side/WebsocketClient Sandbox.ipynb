{
 "cells": [
  {
   "cell_type": "code",
   "execution_count": null,
   "metadata": {
    "collapsed": false
   },
   "outputs": [],
   "source": [
    "# TODO: deprecate...\n",
    "# this is just a temp fix to get things working locally. use the server config when starting jupyter\n",
    "import sys, os\n",
    "\n",
    "# NOTE: change this path if you need to for your system\n",
    "client_side_path = os.getcwd()\n",
    "print(\"client_side_path: %s\" % (client_side_path))\n",
    "sys.path.append(client_side_path)"
   ]
  },
  {
   "cell_type": "code",
   "execution_count": null,
   "metadata": {
    "collapsed": false,
    "scrolled": true
   },
   "outputs": [],
   "source": [
    "from wsclient.client import TestWebSocketClient\n",
    "from tornado import ioloop\n",
    "\n",
    "print(\"IOLoop: %s\" % (ioloop.IOLoop.current()))\n",
    "client = TestWebSocketClient()\n",
    "client.connect('ws://localhost:8675/ws')"
   ]
  },
  {
   "cell_type": "code",
   "execution_count": null,
   "metadata": {
    "collapsed": false
   },
   "outputs": [],
   "source": [
    "%matplotlib notebook\n",
    "\n",
    "import numpy as np\n",
    "import matplotlib.pyplot as plt\n",
    "import json\n",
    "import random\n",
    "\n",
    "class Plotter():\n",
    "    \"\"\"\n",
    "    Wrapper class for the plt import with some helpers and a callback for the client.\n",
    "    \"\"\"\n",
    "    bwidth = 0.5\n",
    "    \n",
    "    def __init__(self):\n",
    "        \"\"\"\n",
    "        Initialize the object\n",
    "        \"\"\"\n",
    "        # values sent mapped to the number of times sent\n",
    "        self.val_counts = {}\n",
    "\n",
    "        # width of the bars for the chart\n",
    "        self.fig = None\n",
    "        self.ax = None\n",
    "        self.rects = []\n",
    "        self.colors = {}\n",
    "    \n",
    "    def random_color(self):\n",
    "        \"\"\"\n",
    "        Generate a random color (hex string).\n",
    "        \"\"\"\n",
    "        lvls = range(32,256,32)\n",
    "        t = tuple(random.choice(lvls) for _ in range(3))\n",
    "        return \"#%02x%02x%02x\" % t\n",
    "\n",
    "    def labelrects(self):\n",
    "        \"\"\"\n",
    "        Helper for labelling the bars\n",
    "        \"\"\"\n",
    "        # label the bars\n",
    "        for rect in self.rects:\n",
    "            height = rect.get_height()\n",
    "            self.ax.text(rect.get_x() + rect.get_width()/2., \n",
    "                    0,\n",
    "                    '%d' % int(height),\n",
    "                    ha='center', \n",
    "                    va='bottom')\n",
    "\n",
    "\n",
    "    def setup_plot(self):\n",
    "        \"\"\"\n",
    "        Initialize the plot\n",
    "        \"\"\"\n",
    "        self.fig, self.ax = plt.subplots()\n",
    "\n",
    "        # add some text for y label and title\n",
    "        self.ax.set_ylabel('Counts')\n",
    "        self.ax.set_title('Counts of values sent to the WSServer')\n",
    "\n",
    "        self.update_plot()\n",
    "\n",
    "    \n",
    "    def update_plot(self):\n",
    "        \"\"\"\n",
    "        Update the plot with the current values of val_counts\n",
    "        \"\"\"\n",
    "        plt.cla()\n",
    "        vals = tuple(k for k,v in self.val_counts.items())\n",
    "        counts = [v for k,v in self.val_counts.items()]\n",
    "        \n",
    "        for v in vals:\n",
    "            self.colors.setdefault(v, self.random_color())\n",
    "        \n",
    "        # x locations for counts\n",
    "        ind = np.arange(len(self.val_counts))\n",
    "\n",
    "        self.rects = self.ax.bar(ind, counts, Plotter.bwidth, color=[c for v, c in self.colors.items()], align='center')\n",
    "\n",
    "        # add some text for ticks\n",
    "        self.ax.set_xticks(ind)\n",
    "        self.ax.set_xticklabels(vals)\n",
    "\n",
    "        # if we have some rects, set their heigthts, label\n",
    "        if len(self.rects) > 0:\n",
    "            for rect, h in zip(self.rects, counts):\n",
    "                rect.set_height(h)\n",
    "            self.ax.legend((self.rects), tuple('%s counts' % (v) for v in vals))\n",
    "            self.labelrects()\n",
    "        \n",
    "        # redraw\n",
    "        self.fig.canvas.draw()\n",
    "\n",
    "    \n",
    "    def client_msg_callback(self, msg):\n",
    "        \"\"\"\n",
    "        Callback for the client to call when a message is received.\n",
    "        \"\"\"\n",
    "        # TODO: Change msg to be a dict or other object before getting here...\n",
    "        d = json.loads(msg.replace(\"'\", \"\\\"\"))\n",
    "        if 'value' in d:\n",
    "            # message contains a 'value' key. use it's value to update\n",
    "            # the val_counts dict.\n",
    "            self.val_counts[d['value']] = self.val_counts.setdefault(d['value'], 0) + 1\n",
    "            self.update_plot()\n",
    "\n",
    "p = Plotter()\n",
    "# Better way to do this? callback feel wrong...\n",
    "client.msg_callback(p.client_msg_callback)\n",
    "p.setup_plot()"
   ]
  },
  {
   "cell_type": "code",
   "execution_count": null,
   "metadata": {
    "collapsed": false
   },
   "outputs": [],
   "source": [
    "from ipywidgets import Button, IntSlider\n",
    "from IPython.display import display\n",
    "\n",
    "button = Button(description='Send a test Message!')\n",
    "valinput = IntSlider(description='Enter a number to send', min=0, max=10)\n",
    "\n",
    "display(valinput)\n",
    "display(button)\n",
    "\n",
    "def send_test_msg(b):\n",
    "    d = {\n",
    "        'does_it': 'blend',\n",
    "        'value': valinput.value,\n",
    "    }\n",
    "    print('send_test_msg: sending test %s' % (d))\n",
    "    client.send(d)\n",
    "\n",
    "button.on_click(send_test_msg)"
   ]
  },
  {
   "cell_type": "code",
   "execution_count": null,
   "metadata": {
    "collapsed": false
   },
   "outputs": [],
   "source": [
    "p.val_counts"
   ]
  },
  {
   "cell_type": "code",
   "execution_count": null,
   "metadata": {
    "collapsed": true
   },
   "outputs": [],
   "source": []
  }
 ],
 "metadata": {
  "kernelspec": {
   "display_name": "Python 3",
   "language": "python",
   "name": "python3"
  },
  "language_info": {
   "codemirror_mode": {
    "name": "ipython",
    "version": 3
   },
   "file_extension": ".py",
   "mimetype": "text/x-python",
   "name": "python",
   "nbconvert_exporter": "python",
   "pygments_lexer": "ipython3",
   "version": "3.5.1"
  }
 },
 "nbformat": 4,
 "nbformat_minor": 0
}
