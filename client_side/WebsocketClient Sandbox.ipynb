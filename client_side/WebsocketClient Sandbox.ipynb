{
 "cells": [
  {
   "cell_type": "code",
   "execution_count": 1,
   "metadata": {
    "collapsed": false
   },
   "outputs": [
    {
     "name": "stdout",
     "output_type": "stream",
     "text": [
      "client_side_path: /media/dpihera/Extra Drive 1/development/jupyternb_c_app_websockets/client_side\n"
     ]
    }
   ],
   "source": [
    "# this is just a temp fix to get things working locally. use the server config when starting jupyter\n",
    "import sys, os\n",
    "\n",
    "# NOTE: change this path if you need to for your system\n",
    "client_side_path = os.getcwd()\n",
    "print(\"client_side_path: %s\" % (client_side_path))\n",
    "sys.path.append(client_side_path)"
   ]
  },
  {
   "cell_type": "code",
   "execution_count": 2,
   "metadata": {
    "collapsed": false,
    "scrolled": true
   },
   "outputs": [
    {
     "name": "stdout",
     "output_type": "stream",
     "text": [
      "IOLoop: <zmq.eventloop.ioloop.ZMQIOLoop object at 0x7ff90fbab9b0>\n",
      "WebSocketClient.__init__: cto, rto = 10, 60\n",
      "WebSocketClient.connect: attempting connection to: ws://localhost:8675/ws\n",
      "WebSocketClient.connect: ws_conn is: <tornado.concurrent.Future object at 0x7ff918db5a90>\n",
      "WebSocketClient.connect: adding to ioloop (<zmq.eventloop.ioloop.ZMQIOLoop object at 0x7ff90fbab9b0>)\n",
      "WebSocketClient.connect: done\n"
     ]
    },
    {
     "data": {
      "text/plain": [
       "<tornado.concurrent.Future at 0x7ff90c22e208>"
      ]
     },
     "execution_count": 2,
     "metadata": {},
     "output_type": "execute_result"
    },
    {
     "name": "stdout",
     "output_type": "stream",
     "text": [
      "Connected to Websocket Server!\n",
      "client_side.TestWebSocketClient._on_message: precessing Hello World from the server_side\n"
     ]
    }
   ],
   "source": [
    "from wsclient.client import TestWebSocketClient\n",
    "from tornado import ioloop\n",
    "\n",
    "print(\"IOLoop: %s\" % (ioloop.IOLoop.current()))\n",
    "client = TestWebSocketClient()\n",
    "client.connect('ws://localhost:8675/ws')"
   ]
  },
  {
   "cell_type": "code",
   "execution_count": 3,
   "metadata": {
    "collapsed": false
   },
   "outputs": [
    {
     "name": "stdout",
     "output_type": "stream",
     "text": [
      "client_side.TestWebSocketClient._on_message: precessing {does_it, blend} from the server_side\n"
     ]
    }
   ],
   "source": [
    "d = {'does_it': 'blend'}\n",
    "client.send(d)"
   ]
  }
 ],
 "metadata": {
  "kernelspec": {
   "display_name": "Python 3",
   "language": "python",
   "name": "python3"
  },
  "language_info": {
   "codemirror_mode": {
    "name": "ipython",
    "version": 3
   },
   "file_extension": ".py",
   "mimetype": "text/x-python",
   "name": "python",
   "nbconvert_exporter": "python",
   "pygments_lexer": "ipython3",
   "version": "3.5.1"
  }
 },
 "nbformat": 4,
 "nbformat_minor": 0
}
